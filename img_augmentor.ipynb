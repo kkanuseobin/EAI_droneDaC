{
 "cells": [
  {
   "cell_type": "code",
   "execution_count": 10,
   "id": "2b8f53c8",
   "metadata": {},
   "outputs": [],
   "source": [
    "# 1. Library import\n",
    "import Augmentor\n",
    "import os\n",
    "import cv2\n",
    "from PIL import Image"
   ]
  },
  {
   "cell_type": "code",
   "execution_count": 14,
   "id": "0a20f86c",
   "metadata": {},
   "outputs": [
    {
     "name": "stderr",
     "output_type": "stream",
     "text": [
      "\r",
      "Executing Pipeline:   0%|                                                                | 0/100 [00:00<?, ? Samples/s]"
     ]
    },
    {
     "name": "stdout",
     "output_type": "stream",
     "text": [
      "Initialised with 77 image(s) found.\n",
      "Output directory set to ./data/Drone/output."
     ]
    },
    {
     "name": "stderr",
     "output_type": "stream",
     "text": [
      "Processing <PIL.Image.Image image mode=RGB size=400x400 at 0x1F0077F4DC0>: 100%|█| 100/100 [00:00<00:00, 206.04 Samples\n"
     ]
    }
   ],
   "source": [
    "# 2. 이미지 데이터 증강처리\n",
    "#증강 시킬 이미지 폴더 경로\n",
    "img = Augmentor.Pipeline(\"./data/Drone/\")\n",
    "\n",
    "\n",
    "# 좌우 반전\n",
    "img.flip_left_right(probability=1.0) \n",
    "\n",
    "# 상하 반전\n",
    "img.flip_top_bottom(probability=1.0)\n",
    "\n",
    "#회전&크롭\n",
    "img.rotate_without_crop(probability=1, max_left_rotation=0.8, max_right_rotation=0.8, expand=False, fillcolor=None)\n",
    "\n",
    "#확대\n",
    "img.zoom_random(probability=1, percentage_area=0.8)\n",
    "\n",
    "#크롭\n",
    "img.crop_random(probability=1, percentage_area=0.8, randomise_percentage_area=False)\n",
    "\n",
    "# 증강 이미지 수\n",
    "img.sample(100)"
   ]
  },
  {
   "cell_type": "code",
   "execution_count": 9,
   "id": "b2aa1463",
   "metadata": {},
   "outputs": [
    {
     "name": "stdout",
     "output_type": "stream",
     "text": [
      "<Augmentor.Pipeline.Pipeline object at 0x000001F009587160>\n"
     ]
    }
   ],
   "source": [
    "print(img)"
   ]
  },
  {
   "cell_type": "code",
   "execution_count": null,
   "id": "4fb59dca",
   "metadata": {},
   "outputs": [],
   "source": []
  }
 ],
 "metadata": {
  "kernelspec": {
   "display_name": "Python 3",
   "language": "python",
   "name": "python3"
  },
  "language_info": {
   "codemirror_mode": {
    "name": "ipython",
    "version": 3
   },
   "file_extension": ".py",
   "mimetype": "text/x-python",
   "name": "python",
   "nbconvert_exporter": "python",
   "pygments_lexer": "ipython3",
   "version": "3.8.8"
  }
 },
 "nbformat": 4,
 "nbformat_minor": 5
}
