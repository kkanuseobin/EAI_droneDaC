{
 "cells": [
  {
   "cell_type": "code",
   "execution_count": 2,
   "id": "1e78810f",
   "metadata": {},
   "outputs": [],
   "source": [
    "# 1. Library import\n",
    "from PIL import Image\n",
    "import cv2\n",
    "\n",
    "import os"
   ]
  },
  {
   "cell_type": "code",
   "execution_count": 3,
   "id": "a352bea9",
   "metadata": {},
   "outputs": [],
   "source": [
    "# 2. image resize를 위한 폴더 생성 및 경로 지정 작업\n",
    "\n",
    "### resize 이미지 저장할 폴더 생성\n",
    "if not os.path.isdir(\"./yolov5-master/data/drones/resize\"):\n",
    "    os.makedirs(\"./yolov5-master/data/drones/resize\")\n",
    "\n",
    "### 이미지 경로 지정\n",
    "raw_path = \"./yolov5-master/data/drones\"\n",
    "token_list = os.listdir(raw_path) # 원본 이미지 경로 내 폴더들을 list화\n",
    "data_path = \"./yolov5-master/data/drones/resize\" # 저장할 이미지 경로"
   ]
  },
  {
   "cell_type": "code",
   "execution_count": 5,
   "id": "809fabf5",
   "metadata": {},
   "outputs": [
    {
     "name": "stdout",
     "output_type": "stream",
     "text": [
      "000001.jpg\n"
     ]
    },
    {
     "ename": "NameError",
     "evalue": "name 'img' is not defined",
     "output_type": "error",
     "traceback": [
      "\u001b[1;31m---------------------------------------------------------------------------\u001b[0m",
      "\u001b[1;31mNameError\u001b[0m                                 Traceback (most recent call last)",
      "\u001b[1;32m<ipython-input-5-e22dd6553002>\u001b[0m in \u001b[0;36m<module>\u001b[1;34m\u001b[0m\n\u001b[0;32m     22\u001b[0m \u001b[1;33m\u001b[0m\u001b[0m\n\u001b[0;32m     23\u001b[0m         \u001b[1;31m# 이미지 resize\u001b[0m\u001b[1;33m\u001b[0m\u001b[1;33m\u001b[0m\u001b[1;33m\u001b[0m\u001b[0m\n\u001b[1;32m---> 24\u001b[1;33m         \u001b[0mimg\u001b[0m \u001b[1;33m=\u001b[0m \u001b[0mimg\u001b[0m\u001b[1;33m.\u001b[0m\u001b[0mresize\u001b[0m\u001b[1;33m(\u001b[0m\u001b[1;33m(\u001b[0m\u001b[1;36m400\u001b[0m\u001b[1;33m,\u001b[0m \u001b[1;36m640\u001b[0m\u001b[1;33m)\u001b[0m\u001b[1;33m)\u001b[0m \u001b[1;31m# resize할 크기를 n x m 형태로 지정\u001b[0m\u001b[1;33m\u001b[0m\u001b[1;33m\u001b[0m\u001b[0m\n\u001b[0m\u001b[0;32m     25\u001b[0m \u001b[1;33m\u001b[0m\u001b[0m\n\u001b[0;32m     26\u001b[0m         \u001b[1;31m# 이미지 JPG로 저장\u001b[0m\u001b[1;33m\u001b[0m\u001b[1;33m\u001b[0m\u001b[1;33m\u001b[0m\u001b[0m\n",
      "\u001b[1;31mNameError\u001b[0m: name 'img' is not defined"
     ]
    }
   ],
   "source": [
    "# 3. 이미지 resize 시작\n",
    "# 잘못처리된 img 변수 저장 리스트\n",
    "false_img_list = []\n",
    "# image 불러오기\n",
    "for token in token_list:\n",
    "    print(token)\n",
    "    # 원본 이미지 경로와 저장할 경로 이미지 지정\n",
    "    image_path = raw_path\n",
    "    save_path = data_path\n",
    "    \n",
    "    # 원본 이미지 경로의 모든 이미지 list 지정\n",
    "    data_list = os.listdir(image_path)\n",
    "\n",
    "    # 모든 이미지 resize 후 저장처리\n",
    "    for name in data_list:\n",
    "        # 이미지 열기\n",
    "        try:\n",
    "            img = Image.open(image_path+name)\n",
    "        except:\n",
    "            false_img_list.append(name)\n",
    "            pass\n",
    "            \n",
    "        # 이미지 resize\n",
    "        img = img.resize((400, 640)) # resize할 크기를 n x m 형태로 지정\n",
    "        \n",
    "        # 이미지 JPG로 저장\n",
    "        img = img.convert(\"RGB\")\n",
    "        img.save(name)\n",
    "    print(\"end ::: \" + token)\n",
    "\n",
    "print(\"***** 해당 내용은 이상이 존재해 처리 불가\", set(false_img_list))"
   ]
  },
  {
   "cell_type": "code",
   "execution_count": null,
   "id": "082d0c1a",
   "metadata": {},
   "outputs": [],
   "source": []
  },
  {
   "cell_type": "code",
   "execution_count": null,
   "id": "6389a8fe",
   "metadata": {},
   "outputs": [],
   "source": []
  }
 ],
 "metadata": {
  "kernelspec": {
   "display_name": "Python 3",
   "language": "python",
   "name": "python3"
  },
  "language_info": {
   "codemirror_mode": {
    "name": "ipython",
    "version": 3
   },
   "file_extension": ".py",
   "mimetype": "text/x-python",
   "name": "python",
   "nbconvert_exporter": "python",
   "pygments_lexer": "ipython3",
   "version": "3.8.8"
  }
 },
 "nbformat": 4,
 "nbformat_minor": 5
}
