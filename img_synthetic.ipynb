{
 "cells": [
  {
   "cell_type": "code",
   "execution_count": 17,
   "id": "4b85ffdf",
   "metadata": {},
   "outputs": [],
   "source": [
    "### 1. 라이브러리 import\n",
    "import cv2\n",
    "import os\n",
    "import numpy as np\n",
    "from PIL import Image\n",
    "import random\n",
    "import math"
   ]
  },
  {
   "cell_type": "code",
   "execution_count": 18,
   "id": "28de48f0",
   "metadata": {},
   "outputs": [],
   "source": [
    "# 2. 이미지를 저장할 폴더 생성\n",
    "# 이미지 저장할 폴더\n",
    "if not os.path.isdir(\"./Synthetic/output\"):\n",
    "    os.makedirs(\"./Synthetic/output\")\n",
    "\n",
    "# 이미지의 label 정보를 txt file로 저장할 폴더\n",
    "if not os.path.isdir(\"./Synthetic/output/labels\"):\n",
    "    os.makedirs(\"./Synthetic/output/labels\")"
   ]
  },
  {
   "cell_type": "code",
   "execution_count": 19,
   "id": "431e160d",
   "metadata": {},
   "outputs": [],
   "source": [
    "# https://domdom.tistory.com/entry/Python-%ED%8C%8C%EC%9D%B4%EC%8D%AC%EC%9C%BC%EB%A1%9C-%EC%9D%B4%EB%AF%B8%EC%A7%80-%ED%95%A9%EC%B9%98%EA%B8%B0%EC%B6%94%EA%B0%80%ED%95%98%EA%B8%B0%EC%9B%8C%ED%84%B0%EB%A7%88%ED%81%AC-%EB%84%A3%EA%B8%B0"
   ]
  },
  {
   "cell_type": "code",
   "execution_count": 20,
   "id": "eb651b5d",
   "metadata": {},
   "outputs": [
    {
     "data": {
      "text/plain": [
       "'C:\\\\Users\\\\user\\\\Energy_AI_Project'"
      ]
     },
     "execution_count": 20,
     "metadata": {},
     "output_type": "execute_result"
    }
   ],
   "source": [
    "%pwd"
   ]
  },
  {
   "cell_type": "code",
   "execution_count": 21,
   "id": "4a9a066e",
   "metadata": {},
   "outputs": [],
   "source": [
    "# 하단에서 사용할 함수들...\n",
    "def center_xy(x, y, bg_img_size, dr_img_size):\n",
    "    # find center comma\n",
    "    x = float(x) + (dr_img_size[0]/2)\n",
    "    y = float(y) + (dr_img_size[1]/2)\n",
    "    \n",
    "    # nomalization\n",
    "    center_x = x / bg_img_size[0]\n",
    "    center_y = y / bg_img_size[1]\n",
    "    \n",
    "    return center_x, center_y\n",
    "\n",
    "\n",
    "def width_height(bg_img_size, dr_img_size):\n",
    "    width = dr_img_size[0]/bg_img_size[0]\n",
    "    height = dr_img_size[1]/bg_img_size[1]\n",
    "    \n",
    "    return width, height\n"
   ]
  },
  {
   "cell_type": "code",
   "execution_count": 23,
   "id": "3aabf009",
   "metadata": {},
   "outputs": [],
   "source": [
    "counter = 0\n",
    "# 3. 이미지 합성처리\n",
    "token_bg_folder = os.listdir(\"./Synthetic/background\") # bg가 들어있는 folder list화\n",
    "token_dr_folder = os.listdir(\"./Synthetic/drone_png\") # bg가 들어있는 folder list화\n",
    "\n",
    "for bg_folder in token_bg_folder: # 배경 폴더의 파일 제목들을 넣기\n",
    "    for dr_folder in token_dr_folder: # 드론 폴더의 파일 제목들을 넣기\n",
    "        try: # 에러가 발생하지 않을 때 처리할 내용\n",
    "            # 이미지를 변수에 저장\n",
    "            bg_img = Image.open('./Synthetic/background/'+bg_folder).convert(\"RGBA\")\n",
    "            dr_img = Image.open('./Synthetic/drone_png/'+dr_folder).convert(\"RGBA\")\n",
    "            # 적어도 width가 500이상인 file에 대해서만 처리\n",
    "            if bg_img.size[0] < 500:\n",
    "                break\n",
    "            # 반복문을 통해 이미지 합성처리\n",
    "            while True: # 반복\n",
    "                dr_img = dr_img.resize((random.randint(int(bg_img.size[0]/20), int(bg_img.size[0]/6)), random.randrange(int(bg_img.size[0]/10), int(bg_img.size[0]/4)))) # 드론 사이즈 조정\n",
    "                if (dr_img.size[0] >= dr_img.size[1]) and (dr_img.size[0] < dr_img.size[1]*4): # 해당 조건 만족시\n",
    "                    break # break\n",
    "            # x와 y가 있을 수 있는 가능 범위 지정\n",
    "            x = random.randint(int(bg_img.size[0]/10), bg_img.size[0] - int(bg_img.size[0]/10))\n",
    "            y = random.randint(int(bg_img.size[1]/10), int(bg_img.size[1]/2)) # 이미지의 1/2 선까지는 드론이 있어도 되나, 바닥은 좀 그래서...\n",
    "            \n",
    "            # yolov5 기준 center점과 width, height 비율 찾기(0~1사이)\n",
    "            center_x, center_y = center_xy(x, y, bg_img.size, dr_img.size)\n",
    "            width, height = width_height(bg_img.size, dr_img.size)\n",
    "            \n",
    "            # 저장된 정보들을 im에 저장함\n",
    "            \n",
    "            im = '0 '+str(format(center_x, '.6f'))+' '+str(format(center_y, '.6f'))+' '+str(format(width, '.6f'))+' '+str(format(height, '.6f'))\n",
    "            \n",
    "            # txt file로 저장..(함수로 만들고 싶었는데 자꾸 오류남ㅠㅠ)\n",
    "            with open('./Synthetic/output/labels/drone_'+str(counter)+'.txt', 'w') as f:\n",
    "                f.write(im)\n",
    "                \n",
    "            # 이미지 합성\n",
    "            bg_img.paste(dr_img, (x,y), dr_img)\n",
    "            # 저장\n",
    "            bg_img.save('./Synthetic/output/'+'drone_'+str(counter)+'.png')\n",
    "            img = Image.open('./Synthetic/output/'+'drone_'+str(counter)+'.png').convert('RGB')\n",
    "            img.save('./Synthetic/output/'+'drone_'+str(counter)+'.jpg', 'jpeg')\n",
    "            os.remove('./Synthetic/output/'+'drone_'+str(counter)+'.png')\n",
    "            counter += 1 # 당연히 +1처리\n",
    "            \n",
    "        except: # 가끔 에러가 발생하는데... 발생하면 pass 처리\n",
    "            pass"
   ]
  },
  {
   "cell_type": "code",
   "execution_count": 11,
   "id": "cb41edaa",
   "metadata": {},
   "outputs": [
    {
     "data": {
      "text/plain": [
       "'0.827500'"
      ]
     },
     "execution_count": 11,
     "metadata": {},
     "output_type": "execute_result"
    }
   ],
   "source": []
  },
  {
   "cell_type": "code",
   "execution_count": 26,
   "id": "6d82fe0d",
   "metadata": {},
   "outputs": [],
   "source": [
    "f = open('newfile.txt', 'w')"
   ]
  },
  {
   "cell_type": "code",
   "execution_count": 27,
   "id": "77eedbb7",
   "metadata": {},
   "outputs": [],
   "source": [
    "im = str(x)+'and'+str(y)\n",
    "f.write(im)\n",
    "f.close()"
   ]
  },
  {
   "cell_type": "code",
   "execution_count": 18,
   "id": "ae7cd890",
   "metadata": {},
   "outputs": [
    {
     "data": {
      "text/plain": [
       "<_io.TextIOWrapper name='newfile.txt' mode='w' encoding='cp949'>"
      ]
     },
     "execution_count": 18,
     "metadata": {},
     "output_type": "execute_result"
    }
   ],
   "source": [
    "f"
   ]
  },
  {
   "cell_type": "code",
   "execution_count": null,
   "id": "7b24f72c",
   "metadata": {},
   "outputs": [],
   "source": []
  }
 ],
 "metadata": {
  "kernelspec": {
   "display_name": "Python 3",
   "language": "python",
   "name": "python3"
  },
  "language_info": {
   "codemirror_mode": {
    "name": "ipython",
    "version": 3
   },
   "file_extension": ".py",
   "mimetype": "text/x-python",
   "name": "python",
   "nbconvert_exporter": "python",
   "pygments_lexer": "ipython3",
   "version": "3.8.8"
  }
 },
 "nbformat": 4,
 "nbformat_minor": 5
}
